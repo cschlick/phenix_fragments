{
 "cells": [
  {
   "cell_type": "code",
   "execution_count": 1,
   "id": "34a58cdd-950e-4549-8058-af388a8ad59a",
   "metadata": {},
   "outputs": [],
   "source": [
    "import sys\n",
    "from pathlib import Path\n",
    "module_dir = Path(\"/Users/user/software/phenix/modules/\")\n",
    "for m in module_dir.glob(\"*\"):\n",
    "  if m.is_dir():\n",
    "    sys.path.append(str(Path(module_dir,m)))"
   ]
  }
 ],
 "metadata": {
  "kernelspec": {
   "display_name": "Python 3 (ipykernel)",
   "language": "python",
   "name": "python3"
  },
  "language_info": {
   "codemirror_mode": {
    "name": "ipython",
    "version": 3
   },
   "file_extension": ".py",
   "mimetype": "text/x-python",
   "name": "python",
   "nbconvert_exporter": "python",
   "pygments_lexer": "ipython3",
   "version": "3.10.5"
  }
 },
 "nbformat": 4,
 "nbformat_minor": 5
}
