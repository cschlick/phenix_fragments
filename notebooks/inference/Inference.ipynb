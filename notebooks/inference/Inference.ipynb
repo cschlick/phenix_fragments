{
 "cells": [
  {
   "cell_type": "code",
   "execution_count": 1,
   "id": "5bef3218-3476-484f-b1a7-e17b6a3831c2",
   "metadata": {},
   "outputs": [
    {
     "name": "stderr",
     "output_type": "stream",
     "text": [
      "/net/cci/cschlick/miniconda3/envs/restraintsML/envs/restraintsML6/lib/python3.10/site-packages/tqdm/auto.py:22: TqdmWarning: IProgress not found. Please update jupyter and ipywidgets. See https://ipywidgets.readthedocs.io/en/stable/user_install.html\n",
      "  from .autonotebook import tqdm as notebook_tqdm\n"
     ]
    }
   ],
   "source": [
    "import sys\n",
    "sys.path.append(\"../../\")\n",
    "from pathlib import Path\n",
    "\n",
    "import tqdm\n",
    "import numpy as np\n",
    "import torch\n",
    "\n",
    "from frag.mol.mols import Mol, MolInputRDKIT\n",
    "from frag.graph.molgraph import MolGraph, MolGraphDataset, MolGraphDataSetGenerator\n",
    "from frag.fragmentation.fragmenters import BondFragmenter, AngleFragmenter\n",
    "from frag.labeling.labelers import BondLabeler, AngleLabeler\n",
    "from frag.featurization.atom_featurizers import RDKITFingerprint\n",
    "\n",
    "\n",
    "from frag.graph.message_passing import MessagePassingBonded\n",
    "from frag.graph.readout import ReadoutJanossyLinear"
   ]
  },
  {
   "cell_type": "code",
   "execution_count": null,
   "id": "3ff1740a-546d-458b-a955-04fe2ff6981c",
   "metadata": {},
   "outputs": [],
   "source": []
  },
  {
   "cell_type": "code",
   "execution_count": 2,
   "id": "0e7388ab-afc9-49eb-ac8a-67ae6e06f131",
   "metadata": {},
   "outputs": [],
   "source": []
  },
  {
   "cell_type": "code",
   "execution_count": 3,
   "id": "407c0c4e-3f7e-4690-8a77-56d5d1a870f7",
   "metadata": {},
   "outputs": [],
   "source": []
  },
  {
   "cell_type": "code",
   "execution_count": 4,
   "id": "27b9fe00-6e4d-4ff4-8ef4-c545c5bfeadc",
   "metadata": {},
   "outputs": [],
   "source": [
    "from frag.mol.mols import Mol"
   ]
  },
  {
   "cell_type": "code",
   "execution_count": 5,
   "id": "b6dfe313-a6fb-4309-83af-f52e34e34d11",
   "metadata": {},
   "outputs": [],
   "source": [
    "mol = Mol(mol_input)"
   ]
  },
  {
   "cell_type": "code",
   "execution_count": 6,
   "id": "86d3c469-cfcb-46e4-9f5a-9daf70181763",
   "metadata": {},
   "outputs": [],
   "source": [
    "mol.write_geo(\"../../tmp/debug.cif\")"
   ]
  },
  {
   "cell_type": "code",
   "execution_count": null,
   "id": "5665da98-3ed2-41ea-92a8-7276dd50405d",
   "metadata": {},
   "outputs": [],
   "source": []
  },
  {
   "cell_type": "code",
   "execution_count": 7,
   "id": "759dd58d-9f62-4e6b-8f9b-e389129322d5",
   "metadata": {},
   "outputs": [],
   "source": [
    "# debug\n",
    "mol = Mol.from_file_geocif('/dev/shm/cschlick/CODoutput/cif/7/70/68/7706849_000_geo.cif')"
   ]
  },
  {
   "cell_type": "markdown",
   "id": "02f56615-b090-44a0-b76a-c94fb8882b1f",
   "metadata": {},
   "source": [
    "# Predict bonds via gnn"
   ]
  },
  {
   "cell_type": "code",
   "execution_count": 8,
   "id": "9cd77deb-dc59-46d9-9461-a6610895e7bd",
   "metadata": {},
   "outputs": [],
   "source": []
  },
  {
   "cell_type": "code",
   "execution_count": 9,
   "id": "0f6ae9ef-7e26-471e-80e4-07564f9ba1df",
   "metadata": {},
   "outputs": [],
   "source": []
  },
  {
   "cell_type": "code",
   "execution_count": 10,
   "id": "b602b6a8-cff7-47a7-b37c-d88c7ff268f2",
   "metadata": {},
   "outputs": [],
   "source": []
  },
  {
   "cell_type": "code",
   "execution_count": 11,
   "id": "a2b90439-c112-4642-9efa-b0788b3262dd",
   "metadata": {},
   "outputs": [],
   "source": []
  },
  {
   "cell_type": "code",
   "execution_count": 12,
   "id": "71c1c856-bc87-41d3-985d-c4282e32e204",
   "metadata": {},
   "outputs": [],
   "source": []
  },
  {
   "cell_type": "code",
   "execution_count": 13,
   "id": "e386b18f-bcf4-40e9-92cb-6542e2686b74",
   "metadata": {},
   "outputs": [],
   "source": []
  },
  {
   "cell_type": "code",
   "execution_count": 14,
   "id": "38e900b0-0b78-4be9-afac-a31b75991952",
   "metadata": {},
   "outputs": [],
   "source": []
  },
  {
   "cell_type": "code",
   "execution_count": 15,
   "id": "fc333b85-c049-4308-b94e-7fa9d57a7da7",
   "metadata": {},
   "outputs": [],
   "source": []
  },
  {
   "cell_type": "code",
   "execution_count": 16,
   "id": "b51d4bc8-469b-4c75-ab9a-88a9ab49758c",
   "metadata": {},
   "outputs": [],
   "source": []
  },
  {
   "cell_type": "code",
   "execution_count": 17,
   "id": "357af188-7b1b-40bb-ab19-0322b8dbbe82",
   "metadata": {},
   "outputs": [],
   "source": []
  },
  {
   "cell_type": "code",
   "execution_count": 18,
   "id": "5b8bfd22-df25-4a5f-90fc-2afffc12e07c",
   "metadata": {},
   "outputs": [],
   "source": [
    "from frag.utils.plotting import plot_geom_eval"
   ]
  },
  {
   "cell_type": "code",
   "execution_count": 20,
   "id": "afc5271d-2dd7-4e7b-b204-c1e8d8b4cdf3",
   "metadata": {},
   "outputs": [
    {
     "data": {
      "image/png": "[encoded data removed]",
      "text/plain": [
       "<Figure size 1152x360 with 2 Axes>"
      ]
     },
     "metadata": {
      "needs_background": "light"
     },
     "output_type": "display_data"
    }
   ],
   "source": [
    "plot_geom_eval(ref_labels,pred_labels,mode=\"bond\")"
   ]
  },
  {
   "cell_type": "code",
   "execution_count": 36,
   "id": "83f32dca-f945-4cbc-a8f1-32d2161c3125",
   "metadata": {},
   "outputs": [],
   "source": []
  },
  {
   "cell_type": "markdown",
   "id": "011fe047-ca4f-4c02-8cce-7a6ff01e116a",
   "metadata": {},
   "source": [
    "# Predict angles via gnn"
   ]
  },
  {
   "cell_type": "code",
   "execution_count": 21,
   "id": "b92defda-f504-4e46-bad9-a839035d2041",
   "metadata": {},
   "outputs": [],
   "source": [
    "label_name = \"angle_value\"\n",
    "file_pkl = \"../../pretrained/gnn_angles_dsgen.pkl\""
   ]
  },
  {
   "cell_type": "code",
   "execution_count": 22,
   "id": "1003af6b-5423-42cf-b351-602cf933d65f",
   "metadata": {},
   "outputs": [],
   "source": [
    "ds_gen = MolGraphDataSetGenerator.from_file_pickle(file_pkl)"
   ]
  },
  {
   "cell_type": "code",
   "execution_count": 23,
   "id": "de8ab5b0-b0ee-465b-b6b0-129b601d5188",
   "metadata": {},
   "outputs": [],
   "source": [
    "ds = ds_gen(mol,disable_progress=True)"
   ]
  },
  {
   "cell_type": "code",
   "execution_count": 24,
   "id": "abecdf2a-3ef1-419f-9fb9-db45b21fb6c6",
   "metadata": {},
   "outputs": [],
   "source": [
    "model = ds_gen.pretrained_models[\"predictor\"]"
   ]
  },
  {
   "cell_type": "code",
   "execution_count": 25,
   "id": "184405cc-41af-49de-9c09-44f7e68c2a8d",
   "metadata": {},
   "outputs": [],
   "source": [
    "pred_graph = model(ds.fragment_graph)"
   ]
  },
  {
   "cell_type": "code",
   "execution_count": 26,
   "id": "ab86a699-0688-4b8e-8059-c6f8631a2b9d",
   "metadata": {},
   "outputs": [],
   "source": [
    "ref_labels = to_np(pred_graph.nodes[\"fragment\"].data[label_name]).flatten()"
   ]
  },
  {
   "cell_type": "code",
   "execution_count": 27,
   "id": "0b5e74e7-be42-4182-a191-09d338cae0c7",
   "metadata": {},
   "outputs": [],
   "source": [
    "assert np.all(np.isclose(ref_labels,mol.angles.angle_value)), \"Graph bonds and mol object bonds not matching\""
   ]
  },
  {
   "cell_type": "code",
   "execution_count": 28,
   "id": "8948074e-2552-48f9-a06e-7f7e77edb5e1",
   "metadata": {},
   "outputs": [],
   "source": [
    "pred_labels = to_np(pred_graph.nodes[\"fragment\"].data[label_name+\"_pred\"]).flatten()"
   ]
  },
  {
   "cell_type": "code",
   "execution_count": 29,
   "id": "a4bc5f7f-99a0-421e-88d7-c56746771ad8",
   "metadata": {},
   "outputs": [
    {
     "data": {
      "image/png": "[encoded data removed]",
      "text/plain": [
       "<Figure size 1152x360 with 2 Axes>"
      ]
     },
     "metadata": {
      "needs_background": "light"
     },
     "output_type": "display_data"
    }
   ],
   "source": [
    "plot_geom_eval(ref_labels,pred_labels,mode=\"angle\",s=10)"
   ]
  },
  {
   "cell_type": "code",
   "execution_count": 33,
   "id": "33f37ad5-b154-4926-aa34-6277ddeb693f",
   "metadata": {},
   "outputs": [],
   "source": [
    "# set predicted\n",
    "for pred,angle in zip(pred_labels,mol.angles):\n",
    "  angle.angle_ideal = pred"
   ]
  },
  {
   "cell_type": "code",
   "execution_count": null,
   "id": "d19b9e87-40cd-4a86-b2e7-fcb1ff50c45a",
   "metadata": {},
   "outputs": [],
   "source": []
  }
 ],
 "metadata": {
  "kernelspec": {
   "display_name": "Python 3 (ipykernel)",
   "language": "python",
   "name": "python3"
  },
  "language_info": {
   "codemirror_mode": {
    "name": "ipython",
    "version": 3
   },
   "file_extension": ".py",
   "mimetype": "text/x-python",
   "name": "python",
   "nbconvert_exporter": "python",
   "pygments_lexer": "ipython3",
   "version": "3.10.5"
  }
 },
 "nbformat": 4,
 "nbformat_minor": 5
}
