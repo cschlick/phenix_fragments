{
 "cells": [
  {
   "cell_type": "code",
   "execution_count": 1,
   "id": "44e794dd-6116-45d8-a569-22a1943813c0",
   "metadata": {},
   "outputs": [
    {
     "name": "stderr",
     "output_type": "stream",
     "text": [
      "/opt/anaconda3/envs/restraintsML6/lib/python3.10/site-packages/tqdm/auto.py:22: TqdmWarning: IProgress not found. Please update jupyter and ipywidgets. See https://ipywidgets.readthedocs.io/en/stable/user_install.html\n",
      "  from .autonotebook import tqdm as notebook_tqdm\n"
     ]
    }
   ],
   "source": [
    "import torch\n",
    "import dgl\n",
    "import tqdm"
   ]
  },
  {
   "cell_type": "code",
   "execution_count": 2,
   "id": "a7eb3d80-2e41-42bb-96cd-1e36b2ceb868",
   "metadata": {},
   "outputs": [],
   "source": [
    "from iotbx import cif\n",
    "from iotbx.data_manager import DataManager\n",
    "import os\n",
    "os.environ[\"MMTBX_CCP4_MONOMER_LIB\"] = \"/Users/user/software/phenix/modules/chem_data/geostd\"\n",
    "\n",
    "\n",
    "import sys\n",
    "from pathlib import Path\n",
    "module_dir = Path(\"/Users/user/software/phenix/modules/\")\n",
    "for m in module_dir.glob(\"*\"):\n",
    "  if m.is_dir():\n",
    "    sys.path.append(str(Path(module_dir,m)))"
   ]
  },
  {
   "cell_type": "code",
   "execution_count": 104,
   "id": "b5eb616e-89b1-4eec-8cb0-eae9cc4f4228",
   "metadata": {},
   "outputs": [],
   "source": [
    "dm = DataManager()\n",
    "dm.process_model_file(\"../data/PO_data/12AS/output/12AS.updated.pdb\")\n",
    "dm.process_restraint_file(\"../data/PO_data/12AS/output/restraints/AMP.cif\")\n",
    "model = dm.get_model()\n",
    "model.process(make_restraints=True)"
   ]
  },
  {
   "cell_type": "code",
   "execution_count": 106,
   "id": "3e987848-fbd9-47d8-b977-2870734adb22",
   "metadata": {},
   "outputs": [],
   "source": [
    "rm = model.restraints_manager\n",
    "grm = rm.geometry\n",
    "bonds_simple, bonds_asu = grm.get_all_bond_proxies()"
   ]
  },
  {
   "cell_type": "code",
   "execution_count": 107,
   "id": "82c1b140-005c-4142-82a2-e993a6849856",
   "metadata": {},
   "outputs": [
    {
     "data": {
      "text/plain": [
       "10368"
      ]
     },
     "execution_count": 107,
     "metadata": {},
     "output_type": "execute_result"
    }
   ],
   "source": [
    "len(bonds_simple)"
   ]
  },
  {
   "cell_type": "code",
   "execution_count": 108,
   "id": "3e599a11-7edb-420a-8615-d83125fe0f4a",
   "metadata": {},
   "outputs": [],
   "source": [
    "m = Chem.MolFromPDBFile(\"../data/PO_data/12AS/output/12AS.updated.pdb\",removeHs=False)"
   ]
  },
  {
   "cell_type": "code",
   "execution_count": 110,
   "id": "fe20e728-f4a5-4469-9fd9-674f2c1edf0c",
   "metadata": {},
   "outputs": [],
   "source": [
    "from iotbx import cif"
   ]
  },
  {
   "cell_type": "code",
   "execution_count": null,
   "id": "88c740bb-965f-4811-97f2-5ef2a443fdf9",
   "metadata": {},
   "outputs": [],
   "source": [
    "cif."
   ]
  },
  {
   "cell_type": "code",
   "execution_count": 9,
   "id": "e7d6e757-b070-4ea3-9a87-aa09bde7a56b",
   "metadata": {},
   "outputs": [],
   "source": [
    "model = model.select(model.selection(\"resname AMP\"))"
   ]
  },
  {
   "cell_type": "code",
   "execution_count": 10,
   "id": "c23a9898-2129-4c2d-a937-425bf383b76d",
   "metadata": {},
   "outputs": [],
   "source": [
    "from rdkit import Chem\n",
    "def convert_cctbx_to_rdkit(cctbx_model,skip_xyz=False):\n",
    "  \"\"\"\n",
    "  Build an rdkit molecule from a cctbx model by enumerating through\n",
    "  atoms and bond proxies.\n",
    "  \n",
    "  Args:\n",
    "    cctbx_model (mmtbx.model.model.manager): The cctbx model object to convert\n",
    "    skip_xyz (bool): Whether or not to include the cartesian coordinates\n",
    "  \n",
    "  Returns:\n",
    "    mol (rdkit.Chem.Mol): The rdkit mol\n",
    "  \"\"\"\n",
    "  assert cctbx_model.restraints_manager_available(), \"Must provide a cctbx model with restraints manager.\"\n",
    "  pt  = Chem.GetPeriodicTable()\n",
    "  mol = Chem.Mol()\n",
    "  rwmol = Chem.RWMol(mol)\n",
    "  if not skip_xyz:\n",
    "    conformer = Chem.Conformer(cctbx_model.get_number_of_atoms())\n",
    "\n",
    "\n",
    "  # atoms\n",
    "  for i,atom in enumerate(cctbx_model.get_atoms()):\n",
    "    e = atom.element.strip()\n",
    "    if e==\"D\":\n",
    "      e = \"H\"\n",
    "    elif len(e)==2:\n",
    "      e = e[0].upper()+e[1].lower()\n",
    "    atomic_num = pt.GetAtomicNumber(e)\n",
    "    rdatom = Chem.Atom(atomic_num)\n",
    "    charge = atom.charge_as_int()\n",
    "    rdatom.SetFormalCharge(charge)\n",
    "\n",
    "\n",
    "\n",
    "    atomi = rwmol.AddAtom(rdatom)\n",
    "    assert i==atomi, \"Mismatch between atom enumerate index and atom index\"\n",
    "    if not skip_xyz:\n",
    "      x,y,z = atom.xyz\n",
    "      conformer.SetAtomPosition(atomi,(float(x),\n",
    "                                       float(y),\n",
    "                                       float(z)))\n",
    "\n",
    "  # bonds\n",
    "  rm = cctbx_model.restraints_manager\n",
    "  grm = rm.geometry\n",
    "  bonds_simple, bonds_asu = grm.get_all_bond_proxies()\n",
    "  bond_proxies = bonds_simple.get_proxies_with_origin_id()\n",
    "\n",
    "\n",
    "  for bond_proxy in bond_proxies:\n",
    "    bond_type = Chem.rdchem.BondType.UNSPECIFIED # Need bond type from cctbx\n",
    "    i,j = bond_proxy.i_seqs\n",
    "    rwmol.AddBond(i,j,bond_type)\n",
    "\n",
    "  if not skip_xyz:\n",
    "    rwmol.AddConformer(conformer)\n",
    "  rdmol = rwmol.GetMol()\n",
    "\n",
    "  return rdmol"
   ]
  },
  {
   "cell_type": "code",
   "execution_count": 11,
   "id": "e46963b9-4d01-4d09-9599-f684d0d6a02d",
   "metadata": {},
   "outputs": [],
   "source": [
    "mol = convert_cctbx_to_rdkit(model)"
   ]
  },
  {
   "cell_type": "code",
   "execution_count": 12,
   "id": "5c36763e-a664-4290-b51f-25e989ba58aa",
   "metadata": {},
   "outputs": [],
   "source": [
    "import numpy as np\n",
    "def build_atom_graph_from_rdkit(rdkit_mol,\n",
    "                                skip_hydrogen=True,\n",
    "                                atom_features=None):\n",
    "  \"\"\"\n",
    "  Create a dgl graph with nodes as atoms and edges as bonds\n",
    "  \n",
    "  Args:\n",
    "    rdkit_mol (rdkit.Chem.Mol): Input molecule\n",
    "    skip_hydrogens (bool): Whether to include hydrogens in graph\n",
    "    atom_features (np.ndarray): Feature vector for each atom in input \n",
    "                                Shape=(n_atoms,n_features)\n",
    "                                \n",
    "  Returns:\n",
    "    g (dgl.heterograph.DGLHeteroGraph): The dgl graph object\n",
    "    atom_idx_noH_mapper (dict): A dictionary to map between atom indices with/without hydrogens\n",
    "                                key=original atom idx\n",
    "                                value=atom idx with Hs removed\n",
    "  \"\"\"\n",
    "  if type(atom_features)==type(None):\n",
    "    atom_features = np.zeros((rdkit_mol.GetNumAtoms(),1))\n",
    "\n",
    "  atom_idxs_wH = []\n",
    "  atom_idxs_woutH = []\n",
    "  atom_idx_noH_mapper = {} # a dict with key: original atom idx, value: atom idx with Hs removed\n",
    "  for i,atom in enumerate(rdkit_mol.GetAtoms()):\n",
    "    assert i == atom.GetIdx(), \"Mismatch between atom.GetIdx() and position in molecule\"\n",
    "    atom_idxs_wH.append(i)\n",
    "    if atom.GetAtomicNum()>1:\n",
    "      atom_idxs_woutH.append(i)\n",
    "\n",
    "  if not skip_hydrogen:\n",
    "    atom_idxs_woutH = atom_idxs_wH\n",
    "  \n",
    "  for i,idx in enumerate(atom_idxs_woutH):\n",
    "    atom_idx_noH_mapper[idx] = i\n",
    "    \n",
    "  bond_idxs = []\n",
    "  for bond in rdkit_mol.GetBonds():\n",
    "    begin, end = bond.GetBeginAtomIdx(), bond.GetEndAtomIdx()\n",
    "    if (begin in atom_idxs_woutH) and (end in atom_idxs_woutH):\n",
    "      begin, end = atom_idx_noH_mapper[begin], atom_idx_noH_mapper[end]\n",
    "      bond_idxs.append([begin,end])\n",
    "      \n",
    "  bond_idxs = np.vstack([bond_idxs,np.flip(bond_idxs,axis=1)]) # add reverse direction edges\n",
    "  g = dgl.graph((bond_idxs[:,0],bond_idxs[:,1]))\n",
    "\n",
    "  g.ndata[\"h0\"] = torch.from_numpy(atom_features[atom_idxs_woutH]) # set initial representation\n",
    "  g.ndata[\"mol_idxs\"] = torch.from_numpy(np.array(atom_idxs_woutH))\n",
    "  return g, atom_idx_noH_mapper\n",
    "\n",
    "\n",
    "def build_atom_graph_from_cctbx(cctbx_model,\n",
    "                                skip_hydrogen=True,\n",
    "                                atom_features=None):\n",
    "  \"\"\"\n",
    "  Create a dgl graph with nodes as atoms and edges as bonds\n",
    "  \n",
    "  Args:\n",
    "    cctbx_model (mmtbx.model.model.manager): Input molecule\n",
    "    skip_hydrogens (bool): Whether to include hydrogens in graph\n",
    "    atom_features (np.ndarray): Feature vector for each atom in input \n",
    "                                Shape=(n_atoms,n_features)\n",
    "                                \n",
    "  Returns:\n",
    "    g (dgl.heterograph.DGLHeteroGraph): The dgl graph object\n",
    "    atom_idx_noH_mapper (dict): A dictionary to map between atom indices with/without hydrogens\n",
    "                                key=original atom idx\n",
    "                                value=atom idx with Hs removed\n",
    "  \"\"\"\n",
    "  if type(atom_features)==type(None):\n",
    "    atom_features = np.zeros((cctbx_model.get_number_of_atoms(),1))\n",
    "\n",
    "  atom_idxs_wH = []\n",
    "  atom_idxs_woutH = []\n",
    "  atom_idx_noH_mapper = {} # a dict with key: original atom idx, value: atom idx with Hs removed\n",
    "  for i,atom in enumerate(cctbx_model.get_atoms()):\n",
    "    assert i == atom.i_seq, \"Mismatch between atom.i_seq and position in molecule\"\n",
    "    atom_idxs_wH.append(i)\n",
    "    element = atom.element.strip()\n",
    "    if element.upper() not in [\"H\",\"D\"]:\n",
    "      atom_idxs_woutH.append(i)\n",
    "\n",
    "  if not skip_hydrogen:\n",
    "    atom_idxs_woutH = atom_idxs_wH\n",
    "  \n",
    "  for i,idx in enumerate(atom_idxs_woutH):\n",
    "    atom_idx_noH_mapper[idx] = i\n",
    "    \n",
    "  bond_idxs = []\n",
    "  rm = cctbx_model.restraints_manager\n",
    "  grm = rm.geometry\n",
    "  bonds_simple, bonds_asu = grm.get_all_bond_proxies()\n",
    "  bond_proxies = bonds_simple.get_proxies_with_origin_id()\n",
    "  for bond_proxy in bond_proxies:\n",
    "    begin, end = bond_proxy.i_seqs\n",
    "    if (begin in atom_idxs_woutH) and (end in atom_idxs_woutH):\n",
    "      begin, end = atom_idx_noH_mapper[begin], atom_idx_noH_mapper[end]\n",
    "      bond_idxs.append([begin,end])\n",
    "      \n",
    "  bond_idxs = np.vstack([bond_idxs,np.flip(bond_idxs,axis=1)]) # add reverse direction edges\n",
    "  g = dgl.graph((bond_idxs[:,0],bond_idxs[:,1]))\n",
    "\n",
    "  g.ndata[\"h0\"] = torch.from_numpy(atom_features[atom_idxs_woutH]) # set initial representation\n",
    "  g.ndata[\"mol_idxs\"] = torch.from_numpy(np.array(atom_idxs_woutH))\n",
    "  return g, atom_idx_noH_mapper"
   ]
  },
  {
   "cell_type": "code",
   "execution_count": 28,
   "id": "aa2d0672-9f35-4e1e-82d0-cb2567325d14",
   "metadata": {},
   "outputs": [],
   "source": []
  },
  {
   "cell_type": "code",
   "execution_count": 29,
   "id": "ac9b9b49-9bb9-41e8-be87-cbf6f6123d2e",
   "metadata": {},
   "outputs": [
    {
     "data": {
      "text/plain": [
       "Graph(num_nodes=70, num_edges=148,\n",
       "      ndata_schemes={'h0': Scheme(shape=(1,), dtype=torch.float64), 'mol_idxs': Scheme(shape=(), dtype=torch.int64)}\n",
       "      edata_schemes={})"
      ]
     },
     "execution_count": 29,
     "metadata": {},
     "output_type": "execute_result"
    }
   ],
   "source": [
    "g"
   ]
  },
  {
   "cell_type": "code",
   "execution_count": 42,
   "id": "83c2680c-b7eb-4e53-ab47-45fcac68b16b",
   "metadata": {},
   "outputs": [],
   "source": [
    "def build_fragment_graph(atom_graph,\n",
    "                         frag_idxs,\n",
    "                         node_name=\"atom\",\n",
    "                         frag_name=\"fragment\",\n",
    "                         fragment_data={}):\n",
    "  \"\"\"\n",
    "  Build a dgl heterograph with \"fragment\" nodes connected to atoms\n",
    "  by edges\n",
    "  \n",
    "  Args:\n",
    "    atom_graph (dgl.graph): The atom graph (nodes are atoms, edges are bonds)\n",
    "    frag_idxs (np.ndarray): Shape (n_fragments, n_atoms_per_frag)\n",
    "                            The node indices of each fragment. NOTE: Not necessarily\n",
    "                            the atom indices, if omitting hydrogens for example.\n",
    "    node_name (str): The name for each (atom) node\n",
    "    frag_name (str): The name for each fragment node\n",
    "    fragment_data (dict): A dictionary of additional fragment data to attach to the graph.\n",
    "                          For example, ground truth regression data.\n",
    "                          \n",
    "  Returns:\n",
    "    frag_graph (dgl.graph): The new heterograph (different node types) with fragment nodes present.\n",
    "                            \n",
    "  \"\"\"\n",
    "\n",
    "  e1,e2 = atom_graph.edges()\n",
    "  bonded_idxs = np.stack([e1.numpy(),e2.numpy()],axis=1)\n",
    "  \n",
    "  edge_dict = {}\n",
    "  edge_dict[(node_name,\"%s_%s_%s\" % (node_name,\"bonded\",node_name), node_name)] = bonded_idxs\n",
    "\n",
    "  for i in range(frag_idxs.shape[1]):\n",
    "    name = (node_name,\"%s_as_%s_in_%s\" % (node_name,i,frag_name),frag_name)\n",
    "    frag_edge_idxs = np.stack([frag_idxs[:,i],np.arange(frag_idxs.shape[0])],axis=1)\n",
    "    edge_dict[name] = frag_edge_idxs\n",
    "    \n",
    "  frag_graph = dgl.heterograph({key: list(value) for key, value in edge_dict.items()})\n",
    "  frag_graph.nodes[node_name].data[\"h0\"] = atom_graph.ndata[\"h0\"].type(torch.get_default_dtype())\n",
    "\n",
    "\n",
    "\n",
    "  frag_graph.nodes[node_name].data[\"mol_idxs\"] = atom_graph.ndata[\"mol_idxs\"]\n",
    "  frag_graph.nodes[frag_name].data[\"mol_idxs\"] = torch.from_numpy(atom_graph.ndata[\"mol_idxs\"].numpy()[frag_idxs])\n",
    "  for key,value in fragment_data.items():\n",
    "    frag_graph.nodes[frag_name].data[key] = torch.from_numpy(value)\n",
    "  \n",
    "  return frag_graph"
   ]
  },
  {
   "cell_type": "code",
   "execution_count": 31,
   "id": "6c136890-f46f-4a87-95dc-546bc9a23cc4",
   "metadata": {},
   "outputs": [],
   "source": [
    "def espaloma_fingerprint(atom):\n",
    "\n",
    "        HYBRIDIZATION_RDKIT = {\n",
    "          Chem.rdchem.HybridizationType.SP: np.array(\n",
    "              [1, 0, 0, 0, 0],\n",
    "          ),\n",
    "          Chem.rdchem.HybridizationType.SP2: np.array(\n",
    "              [0, 1, 0, 0, 0],\n",
    "          ),\n",
    "          Chem.rdchem.HybridizationType.SP3: np.array(\n",
    "              [0, 0, 1, 0, 0],\n",
    "          ),\n",
    "          Chem.rdchem.HybridizationType.SP3D: np.array(\n",
    "              [0, 0, 0, 1, 0],\n",
    "          ),\n",
    "          Chem.rdchem.HybridizationType.SP3D2: np.array(\n",
    "              [0, 0, 0, 0, 1],\n",
    "          ),\n",
    "          Chem.rdchem.HybridizationType.S: np.array(\n",
    "              [0, 0, 0, 0, 0],\n",
    "          ),\n",
    "          Chem.rdchem.HybridizationType.UNSPECIFIED: np.array(\n",
    "              [1, 0, 0, 0, 0], # TODO: UNSPECIFIED goes to SP (it seems very rare...)\n",
    "          ),\n",
    "        }\n",
    "\n",
    "        return np.concatenate(\n",
    "              [\n",
    "                  np.array(\n",
    "                      [\n",
    "                          #atom.GetTotalDegree(),\n",
    "                          #atom.GetTotalNumHs(),\n",
    "                          #atom.GetTotalValence(),\n",
    "                          #atom.GetExplicitValence(),\n",
    "                          len(atom.GetNeighbors())*1.0,\n",
    "                          len([a for a in atom.GetNeighbors() if a.GetAtomicNum()==1]),\n",
    "                          atom.GetFormalCharge() if atom.GetFormalCharge()>0 else 0,\n",
    "                          atom.GetFormalCharge() if atom.GetFormalCharge()<0 else 0,\n",
    "                          atom.GetIsAromatic() * 1.0,\n",
    "                          atom.GetMass(),\n",
    "                          atom.IsInRingSize(3) * 1.0,\n",
    "                          atom.IsInRingSize(4) * 1.0,\n",
    "                          atom.IsInRingSize(5) * 1.0,\n",
    "                          atom.IsInRingSize(6) * 1.0,\n",
    "                          atom.IsInRingSize(7) * 1.0,\n",
    "                          atom.IsInRingSize(8) * 1.0,\n",
    "                      ],\n",
    "                  ),\n",
    "                  HYBRIDIZATION_RDKIT[atom.GetHybridization()],\n",
    "              ],\n",
    "          )"
   ]
  },
  {
   "cell_type": "code",
   "execution_count": 32,
   "id": "183de6a8-47da-4bb4-95a4-7fcc78d00f71",
   "metadata": {},
   "outputs": [],
   "source": [
    "atom_features = np.vstack([espaloma_fingerprint(atom) for atom in mol.GetAtoms()])"
   ]
  },
  {
   "cell_type": "code",
   "execution_count": 36,
   "id": "116e28a6-a352-4a43-b6b7-e9819508f97e",
   "metadata": {},
   "outputs": [],
   "source": [
    "atom_graph, _ = build_atom_graph_from_rdkit(mol,skip_hydrogen=False,atom_features=atom_features)"
   ]
  },
  {
   "cell_type": "code",
   "execution_count": 37,
   "id": "437716f0-3edb-484a-9dbd-942b0903d668",
   "metadata": {},
   "outputs": [
    {
     "data": {
      "text/plain": [
       "tensor([[4., 1., 0.,  ..., 0., 0., 0.],\n",
       "        [3., 1., 0.,  ..., 0., 0., 0.],\n",
       "        [4., 1., 0.,  ..., 0., 0., 0.],\n",
       "        ...,\n",
       "        [1., 0., 0.,  ..., 0., 0., 0.],\n",
       "        [1., 0., 0.,  ..., 0., 0., 0.],\n",
       "        [1., 0., 0.,  ..., 0., 0., 0.]], dtype=torch.float64)"
      ]
     },
     "execution_count": 37,
     "metadata": {},
     "output_type": "execute_result"
    }
   ],
   "source": [
    "atom_graph.ndata[\"h0\"]"
   ]
  },
  {
   "cell_type": "code",
   "execution_count": 59,
   "id": "33e2b18f-f424-4903-83d1-6d990e857c9a",
   "metadata": {},
   "outputs": [],
   "source": [
    "rm = model.restraints_manager\n",
    "grm = rm.geometry\n",
    "result = bonds_simple.get_sorted(\"delta\",model.get_sites_cart())\n",
    "bonds_simple, bonds_asu = grm.get_all_bond_proxies()\n",
    "bond_proxies = bonds_simple.get_proxies_with_origin_id()\n",
    "frag_idxs = np.array([bond_proxy.i_seqs for bond_proxy in bond_proxies])\n",
    "bond_length_ideal = np.array([bond_proxy.distance_ideal for bond_proxy in bond_proxies]) # Note: want actual for regression"
   ]
  },
  {
   "cell_type": "code",
   "execution_count": 60,
   "id": "0bd02325-0215-417e-811a-840363f6acd7",
   "metadata": {},
   "outputs": [],
   "source": [
    "bond_proxy = bonds_simple[0]"
   ]
  },
  {
   "cell_type": "code",
   "execution_count": 61,
   "id": "6e7077f3-b94e-4995-adaa-c70c1dc1aad6",
   "metadata": {},
   "outputs": [
    {
     "data": {
      "text/plain": [
       "1.529"
      ]
     },
     "execution_count": 61,
     "metadata": {},
     "output_type": "execute_result"
    }
   ],
   "source": [
    "bond_proxy.distance_ideal"
   ]
  },
  {
   "cell_type": "code",
   "execution_count": 68,
   "id": "bfda5a2e-10eb-4786-8d43-a72696d6bb55",
   "metadata": {},
   "outputs": [],
   "source": [
    "result = bonds_simple.get_sorted(\"delta\",model.get_sites_cart())"
   ]
  },
  {
   "cell_type": "code",
   "execution_count": 66,
   "id": "1853975b-82c5-4a42-a11b-c281b9788179",
   "metadata": {},
   "outputs": [
    {
     "ename": "TypeError",
     "evalue": "'int' object is not subscriptable",
     "output_type": "error",
     "traceback": [
      "\u001b[0;31m---------------------------------------------------------------------------\u001b[0m",
      "\u001b[0;31mTypeError\u001b[0m                                 Traceback (most recent call last)",
      "Input \u001b[0;32mIn [66]\u001b[0m, in \u001b[0;36m<cell line: 1>\u001b[0;34m()\u001b[0m\n\u001b[1;32m      1\u001b[0m \u001b[38;5;28;01mfor\u001b[39;00m r \u001b[38;5;129;01min\u001b[39;00m result:\n\u001b[0;32m----> 2\u001b[0m   i,j \u001b[38;5;241m=\u001b[39m \u001b[43mr\u001b[49m\u001b[43m[\u001b[49m\u001b[38;5;241;43m0\u001b[39;49m\u001b[43m]\u001b[49m,r[\u001b[38;5;241m1\u001b[39m]\n\u001b[1;32m      3\u001b[0m   ideal, actual \u001b[38;5;241m=\u001b[39m r[\u001b[38;5;241m3\u001b[39m], r[\u001b[38;5;241m4\u001b[39m]\n",
      "\u001b[0;31mTypeError\u001b[0m: 'int' object is not subscriptable"
     ]
    }
   ],
   "source": [
    "for r in result:\n",
    "  i,j = r[0],r[1]\n",
    "  ideal, actual = r[3], r[4]"
   ]
  },
  {
   "cell_type": "code",
   "execution_count": null,
   "id": "95eb1168-131c-4699-bbff-748b69093682",
   "metadata": {},
   "outputs": [],
   "source": []
  },
  {
   "cell_type": "code",
   "execution_count": null,
   "id": "22950edd-04b5-40ed-bee2-f4158c32f4f9",
   "metadata": {},
   "outputs": [],
   "source": []
  },
  {
   "cell_type": "code",
   "execution_count": null,
   "id": "b9ffdc10-c0bc-4dbc-86b2-52ae0febbc55",
   "metadata": {},
   "outputs": [],
   "source": []
  },
  {
   "cell_type": "code",
   "execution_count": 43,
   "id": "acde58c5-88f3-4114-9c61-21f0e2fc03b2",
   "metadata": {},
   "outputs": [],
   "source": [
    "frag_graph = build_fragment_graph(atom_graph,\n",
    "                                  frag_idxs=frag_idxs,\n",
    "                                  fragment_data={\"bond_length_ideal\":bond_length_ideal})"
   ]
  },
  {
   "cell_type": "code",
   "execution_count": null,
   "id": "81cc48a8-0c0a-4a56-855d-98e04a5675bc",
   "metadata": {},
   "outputs": [],
   "source": []
  },
  {
   "cell_type": "code",
   "execution_count": 69,
   "id": "bba5ed9a-5542-4616-a4d5-e54064e2e2bc",
   "metadata": {},
   "outputs": [
    {
     "data": {
      "text/plain": [
       "Graph(num_nodes={'atom': 70, 'fragment': 74},\n",
       "      num_edges={('atom', 'atom_as_0_in_fragment', 'fragment'): 74, ('atom', 'atom_as_1_in_fragment', 'fragment'): 74, ('atom', 'atom_bonded_atom', 'atom'): 148},\n",
       "      metagraph=[('atom', 'fragment', 'atom_as_0_in_fragment'), ('atom', 'fragment', 'atom_as_1_in_fragment'), ('atom', 'atom', 'atom_bonded_atom')])"
      ]
     },
     "execution_count": 69,
     "metadata": {},
     "output_type": "execute_result"
    }
   ],
   "source": [
    "frag_graph"
   ]
  },
  {
   "cell_type": "code",
   "execution_count": 76,
   "id": "61dd8595-3e44-40ce-908c-32ac37a1729a",
   "metadata": {},
   "outputs": [],
   "source": [
    "import torch\n",
    "import torch.nn.functional as F\n",
    "import dgl\n",
    "import numpy as np\n",
    "\n",
    "\n",
    "class MessagePassingBonded(torch.nn.Module):\n",
    "    \"\"\"Sequential neural network with input layers.\n",
    "    Parameters\n",
    "    ----------\n",
    "    layer : torch.nn.Module\n",
    "        DGL graph convolution layers.\n",
    "    config : List\n",
    "        A sequence of numbers (for units) and strings (for activation functions)\n",
    "        denoting the configuration of the sequential model.\n",
    "    feature_units : int(default=117)\n",
    "        The number of input channels.\n",
    "    Methods\n",
    "    -------\n",
    "    forward(g, x)\n",
    "        Forward pass.\n",
    "    \"\"\"\n",
    "    \n",
    "\n",
    "    \n",
    "    def __init__(\n",
    "        self,\n",
    "        nlayers= 3,\n",
    "        feature_units=None,\n",
    "        hidden_units=128,\n",
    "        atom_node_name = \"atom\",\n",
    "        fragment_name = \"fragment\",\n",
    "        model_kwargs={},\n",
    "    ):\n",
    "        super(MessagePassingBonded, self).__init__()\n",
    "        \n",
    "        # validate\n",
    "        assert feature_units is not None, \"Specify the size of feature units\"\n",
    "        \n",
    "        # setup\n",
    "        self.atom_node_name = atom_node_name\n",
    "        self.fragment_name = fragment_name\n",
    "        \n",
    "        \n",
    "        # initial featurization\n",
    "        self.f_in = torch.nn.Sequential(\n",
    "            torch.nn.Linear(feature_units, hidden_units), torch.nn.Tanh()\n",
    "        )\n",
    "        layers = []\n",
    "        for i in range(nlayers):\n",
    "          layers.append(dgl.nn.pytorch.conv.sageconv.SAGEConv(hidden_units,hidden_units,\"mean\",bias=True,activation=F.relu))\n",
    "          #layers.append(torch.nn.ReLU())\n",
    "          \n",
    "        self.mp = dgl.nn.Sequential(*layers)\n",
    "\n",
    "\n",
    "    def forward(self, g, x=None):\n",
    "        \n",
    "        # get homogeneous subgraph\n",
    "        edge_type = \"%s_%s_%s\" % (self.atom_node_name,\"bonded\",self.atom_node_name)\n",
    "        g_ = dgl.to_homogeneous(g.edge_type_subgraph([edge_type]))\n",
    "\n",
    "        if x is None:\n",
    "            # get node attributes\n",
    "            x = g.nodes[self.atom_node_name].data[\"h0\"]\n",
    "            x = self.f_in(x)\n",
    "\n",
    "        # message passing on atom graph\n",
    "        x = self.mp(g_,x)\n",
    "\n",
    "        # put attribute back in the graph\n",
    "        g.nodes[self.atom_node_name].data[\"h\"] = x\n",
    "\n",
    "        return g"
   ]
  },
  {
   "cell_type": "code",
   "execution_count": null,
   "id": "9a766cd2-f809-4515-bbca-af0931af9f44",
   "metadata": {},
   "outputs": [],
   "source": []
  },
  {
   "cell_type": "code",
   "execution_count": 82,
   "id": "d95743f5-ca7a-42b6-ac94-f5928937d2e5",
   "metadata": {},
   "outputs": [],
   "source": [
    "mp = MessagePassingBonded(feature_units=atom_features.shape[1],hidden_units=16)"
   ]
  },
  {
   "cell_type": "code",
   "execution_count": 83,
   "id": "975648f9-f5b3-48da-a9da-45000dee0d18",
   "metadata": {},
   "outputs": [],
   "source": [
    "output = mp(frag_graph)"
   ]
  },
  {
   "cell_type": "code",
   "execution_count": 84,
   "id": "316753cf-3a49-4842-a602-e8b24333bcb9",
   "metadata": {},
   "outputs": [
    {
     "data": {
      "text/plain": [
       "Graph(num_nodes={'atom': 70, 'fragment': 74},\n",
       "      num_edges={('atom', 'atom_as_0_in_fragment', 'fragment'): 74, ('atom', 'atom_as_1_in_fragment', 'fragment'): 74, ('atom', 'atom_bonded_atom', 'atom'): 148},\n",
       "      metagraph=[('atom', 'fragment', 'atom_as_0_in_fragment'), ('atom', 'fragment', 'atom_as_1_in_fragment'), ('atom', 'atom', 'atom_bonded_atom')])"
      ]
     },
     "execution_count": 84,
     "metadata": {},
     "output_type": "execute_result"
    }
   ],
   "source": [
    "output"
   ]
  },
  {
   "cell_type": "code",
   "execution_count": 85,
   "id": "043bbfc5-78d7-45d9-9adf-298fc9883388",
   "metadata": {},
   "outputs": [
    {
     "data": {
      "text/plain": [
       "torch.Size([70, 16])"
      ]
     },
     "execution_count": 85,
     "metadata": {},
     "output_type": "execute_result"
    }
   ],
   "source": [
    "output.nodes[\"atom\"].data[\"h\"].shape"
   ]
  },
  {
   "cell_type": "code",
   "execution_count": 88,
   "id": "114229a7-307d-4102-9290-94571354d6c1",
   "metadata": {},
   "outputs": [
    {
     "data": {
      "text/plain": [
       "tensor([[0.0000, 1.7602, 1.2307,  ..., 0.0000, 0.0321, 0.5444],\n",
       "        [0.0000, 2.0693, 1.0694,  ..., 0.0000, 0.0000, 0.6958],\n",
       "        [0.0000, 1.4575, 0.9586,  ..., 0.0000, 0.0999, 0.1989],\n",
       "        ...,\n",
       "        [0.0000, 0.9082, 0.3219,  ..., 0.0000, 0.0000, 0.0000],\n",
       "        [0.0000, 1.4117, 0.5076,  ..., 0.0000, 0.0000, 0.0000],\n",
       "        [0.0000, 1.4117, 0.5076,  ..., 0.0000, 0.0000, 0.0000]],\n",
       "       grad_fn=<ReluBackward0>)"
      ]
     },
     "execution_count": 88,
     "metadata": {},
     "output_type": "execute_result"
    }
   ],
   "source": [
    "output.nodes[\"atom\"].data[\"h\"]"
   ]
  },
  {
   "cell_type": "code",
   "execution_count": null,
   "id": "e19016ac-5f02-46cc-a838-fb07cb9707c0",
   "metadata": {},
   "outputs": [],
   "source": []
  }
 ],
 "metadata": {
  "kernelspec": {
   "display_name": "Python 3 (ipykernel)",
   "language": "python",
   "name": "python3"
  },
  "language_info": {
   "codemirror_mode": {
    "name": "ipython",
    "version": 3
   },
   "file_extension": ".py",
   "mimetype": "text/x-python",
   "name": "python",
   "nbconvert_exporter": "python",
   "pygments_lexer": "ipython3",
   "version": "3.10.5"
  }
 },
 "nbformat": 4,
 "nbformat_minor": 5
}
