{
 "cells": [
  {
   "cell_type": "code",
   "execution_count": 1,
   "id": "95cd19ea-b48b-436c-868b-d7e4741ad8de",
   "metadata": {},
   "outputs": [],
   "source": [
    "# from iotbx import cif\n",
    "# from iotbx.data_manager import DataManager\n",
    "# import os\n",
    "# os.environ[\"MMTBX_CCP4_MONOMER_LIB\"] = \"/Users/user/software/phenix/modules/chem_data/geostd\""
   ]
  },
  {
   "cell_type": "code",
   "execution_count": null,
   "id": "90de2fc4-b0d4-4fab-9fcf-b667f9b4e167",
   "metadata": {},
   "outputs": [],
   "source": []
  },
  {
   "cell_type": "code",
   "execution_count": 2,
   "id": "0b52c547-8857-42dc-8313-bc1300a07596",
   "metadata": {},
   "outputs": [],
   "source": [
    "import sys\n",
    "sys.path.append(\"../phenix_fragments/\")"
   ]
  },
  {
   "cell_type": "code",
   "execution_count": 3,
   "id": "5b9f0e73-1d10-4ab9-b583-8fed0571a798",
   "metadata": {},
   "outputs": [],
   "source": [
    "from utils.mp import pool_with_progress"
   ]
  },
  {
   "cell_type": "code",
   "execution_count": 4,
   "id": "90df3042-fcc5-4b42-8225-9554b9e850f0",
   "metadata": {},
   "outputs": [
    {
     "name": "stderr",
     "output_type": "stream",
     "text": [
      "/net/cci/cschlick/miniconda3/envs/restraintsML/envs/restraintsML6/lib/python3.10/site-packages/tqdm/auto.py:22: TqdmWarning: IProgress not found. Please update jupyter and ipywidgets. See https://ipywidgets.readthedocs.io/en/stable/user_install.html\n",
      "  from .autonotebook import tqdm as notebook_tqdm\n"
     ]
    }
   ],
   "source": [
    "from graph.utils import build_atom_graph_from_mol, build_fragment_graph"
   ]
  },
  {
   "cell_type": "code",
   "execution_count": 5,
   "id": "13d7e3f6-78bb-46e4-846a-3b57f3418d8a",
   "metadata": {},
   "outputs": [],
   "source": [
    "from mol.mols import MolInputGeo, Mol\n",
    "from pathlib import Path\n",
    "from mol.cif import load_cif_file, guess_cif_format\n",
    "from mol.rdkit import validate_rdkit_mol"
   ]
  },
  {
   "cell_type": "code",
   "execution_count": 6,
   "id": "c00840a5-964a-416e-983a-d61072378266",
   "metadata": {},
   "outputs": [],
   "source": [
    "from fragmentation.fragmenters import BondFragmenter, AngleFragmenter\n",
    "from graph.molgraph import MolGraph, MolGraphDataset\n",
    "from graph.message_passing import MessagePassingBonded\n",
    "from graph.readout import ReadoutSimple"
   ]
  },
  {
   "cell_type": "code",
   "execution_count": 7,
   "id": "2d37ddff-e2d6-47d0-97e1-eadcabd51eb5",
   "metadata": {},
   "outputs": [],
   "source": [
    "import torch"
   ]
  },
  {
   "cell_type": "code",
   "execution_count": 8,
   "id": "a14e64e9-4404-4674-b3ef-63c4eefe304e",
   "metadata": {},
   "outputs": [],
   "source": [
    "# dm = DataManager()\n",
    "# file = Path(\"../data/PO_data/12AS/output/12AS.updated.pdb\")\n",
    "# dm.process_model_file(str(file))\n",
    "# dm.process_restraint_file(\"../data/PO_data/12AS/output/restraints/AMP.cif\")\n",
    "# model = dm.get_model()\n",
    "# model.process(make_restraints=True)\n",
    "\n",
    "# mol = Mol.from_cctbx_model(model)\n",
    "# molecule_id = file.stem.split(\".\")[0]\n",
    "# mol.molecule_id = molecule_id"
   ]
  },
  {
   "cell_type": "code",
   "execution_count": 9,
   "id": "6289cde1-58e4-4a37-8d61-6fbc3d7c143c",
   "metadata": {},
   "outputs": [],
   "source": [
    "folder = Path(\"/dev/shm/cschlick/geostd/\")\n",
    "files = [file for file in folder.glob(\"**/*\") if file.suffix == \".cif\" and \"ccd\" not in file.name and \"lib\" not in file.name]"
   ]
  },
  {
   "cell_type": "code",
   "execution_count": 10,
   "id": "850f03d2-dfd5-4fba-9da9-cafc8d36ebf9",
   "metadata": {},
   "outputs": [],
   "source": [
    "known_blacklist = ['R79', 'R46', 'R3E', 'RDR', 'R19', 'RIG', 'R3B', 'RE3', 'RE0', 'R04', 'R01', 'RRP', 'R03', 'R17', 'R1A', 'R71', 'RTQ', 'RTR', 'U', 'UN2', 'UZ7', 'U49', 'U66', 'U5Y', 'URG', 'UIZ', '9ZM', '9NV', '95A', '9NE', '9NR', '9NF', '0A8', '0CS', '0BR', '07O', '0AH', '0N1', '0AK', '0E2', '0GM', '0E3', '0D5', '030', '0FL', '000', '02O', '0PN', '02L', '013', '01F', '0AF', '0ZM', '0A1', '0AR', '0LF', '0BN', '7C2', '7AZ', '7C0', '7NX', '7LT', '7LW', 'IV7', 'ILX', 'IBU', 'IAM', 'IRI', 'I21', 'IEL', 'I2M', 'IYR', 'INM', 'ILE', 'ICY', 'IZO', 'NEP', 'NDT', 'ND4', 'NKJ', 'N31', 'NGH', 'N2C', 'NDG', 'NDP', 'NAL', 'NMM', 'NBQ', 'NOT', 'NMQ', 'NMR', 'NCY', 'NCO', 'NAG', 'NNH', 'NYS', 'NLE', 'NMC', 'low', 'NO', 'NIY', 'N1B', 'N0P', 'NPI', 'NPH', 'NGA', 'GME', 'GLU', 'GVL', 'GPL', 'G2O', 'G', 'GEK', 'GD', 'GHG', 'GT9', 'GAL', 'GLJ', 'GLY', 'G9R', 'GLN', 'GOV', 'GVB', 'GND', '6CW', '6VB', '6QG', '6Q1', '6HN', '6CH', '6VJ', '6CL', '6T3', 'ZBZ', 'Z70', 'ZCL', 'ZSW', 'ZSV', 'Z01', 'ZKG', 'ZRL', 'ZZD', '1PA', '12W', '1TY', '143', '193', '1ZX', '1TQ', '1X6', '10R', '82J', '8Q4', '85A', 'TYI', 'TCQ', 'TNB', 'T5B', 'TBR', 'TLY', 'TYX', 'TY9', 'TYO', 'TYN', 'TY8', 'TYY', 'TNR', 'TBG', 'TIS', 'TPQ', 'TRN', 'TRX', 'TRO', 'TEF', 'T0I', 'THR', 'TS9', 'TQQ', 'TQI', 'TRP', 'TRF', 'TEO', 'TIH', 'TPJ', 'T11', 'T3Y', 'TUB', 'T5H', 'TC9', 'TY5', 'TTS', 'TYQ', 'T58', 'TYR', 'TY2', 'TYS', 'TD', 'SIB', 'SEB', 'SIA', 'SDP', 'S1H', 'SEP', 'SD4', 'S2P', 'SHC', 'SRM', 'SER', 'SLZ', 'SUN', 'SLL', 'SY9', 'SVW', 'SVV', 'SAH', 'SCS', 'SNC', 'S5W', 'SCH', 'SMC', 'SVZ', 'SME', 'SVX', 'SVY', 'SXE', 'SEM', 'AN8', 'A5N', 'ALA', 'ALC', 'AAD', 'AZY', 'AR4', 'AGT', 'ASP', 'ARV', 'ARS', 'AGS', 'APM', 'ARG', 'AGQ', 'A', 'ADP', 'ASN', 'ASL', 'AHP', 'A25', 'AGM', 'ARO', 'ALN', 'ALY', 'AAH', 'AZS', 'AD', 'A9A', 'AR', 'FEO', 'FRQ', 'FHO', 'FHL', 'FLT', 'FUC', 'FLA', 'FOL', 'FNH', 'FU0', 'FT6', 'FTY', 'F4S', 'FWQ', 'FRM', 'F2F', 'FFM', 'F3S', 'link', 'exafs', 'crg', 'alpha2-6', 'OTY', 'ON6', 'OC1', 'OCS', 'OAZ', 'OXX', 'O7N', 'OBS', 'OLZ', 'OBF', 'OMH', 'OHI', 'OEX', 'ORQ', 'O12', 'OSE', 'OM3', 'OCY', 'OM2', 'ONH', 'OTQ', 'OAS', 'OMT', 'OTB', 'OXV', 'ONL', 'HIC', 'HS8', 'HIS', 'HPE', 'HQA', 'HGL', 'HIQ', 'H8T', 'HTI', 'HVA', 'HNC', 'HCS', 'HZP', 'HLU', 'HAR', 'HOX', 'HFS', 'HRP', 'HRG', 'HHK', 'list', 'MYK', 'MCS', 'low', 'MO1', 'MMO', 'MAN', 'MTY', 'MXI', 'MB0', 'MBQ', 'MLX', 'MLY', 'MNQ', 'MIR', 'MEQ', 'ME0', 'M2S', 'MIS', 'MSL', 'MHS', 'MET', 'M0H', 'MGG', 'M2L', 'MEN', 'MF3', 'MSE', 'MHO', 'M3L', 'MT2', 'MYW', 'MUT', 'ML3', 'MLG', 'JJL', 'JJJ', 'JJK', 'JN1', 'pur', 'pur', 'pyr', 'pyr', 'rna2p', 'rna3p', 'rna3p', 'rna2p', 'CAB', 'CYS', 'CYR', 'CY1', 'CYG', 'CY0', 'CYQ', 'CLG', 'C6C', 'CY4', 'CTE', 'CD', 'CYW', 'CME', 'CLA', 'CGA', 'CSS', 'CSD', 'CS3', 'CGU', 'CS1', 'CSU', 'C', 'CSA', 'C0Q', 'C1X', 'plane', 'low', 'CPC', 'CSO', 'CSJ', 'CU9', 'CLZ', 'CLO', 'CO4', 'C6J', 'CN4', 'CYJ', 'C5C', 'CCS', 'low', 'C6M', 'CLH', 'CML', 'DGD', 'DPL', 'DH8', 'D3O', 'DT0', 'DON', 'DAE', 'DBL', 'DBY', 'DYS', 'low', 'DMZ', 'DV0', 'DO2', 'DB5', 'D4P', 'DAH', 'DMK', 'DVV', 'DNS', 'DMH', 'DVT', 'D8U', 'DB0', 'DE0', 'DIR', 'DPP', 'DPQ', 'DE6', 'DDE', 'VAL', 'VZ7', 'VLL', 'VHA', 'VHC', 'VFY', 'VR0', 'VJ6', 'Q3E', 'QPA', 'QEV', 'QDW', 'Q4B', 'Q8T', 'Q8B', 'Q7Z', 'QMM', 'Q7H', 'QLJ', 'Q7K', 'Q41', 'Q7Q', 'Q7V', 'Q4Y', 'Q2Z', 'QEY', '4YM', '4BF', '4CF', '4DP', '4DB', '4HT', '4PH', '406', '4FW', '4IN', '4LA', 'X5M', 'XLS', 'XMF', 'XX1', 'XCN', 'XME', 'XX2', 'XS1', 'X3P', 'low', 'XMI', 'XW1', 'XMJ', '3GL', '3DB', '3EG', '32T', '3CF', '3TY', '3AH', '3NK', '3AR', '35Y', 'E61', 'E6P', 'E4Y', 'ECX', 'EAQ', 'ESB', 'EFC', 'ESC', 'EEM', 'E19', 'EQ1', 'E9A', 'E4G', 'EXY', 'E5A', 'E6M', 'EVB', 'E5D', 'EN3', 'E51', 'E5P', 'E6J', 'BFQ', 'BPH', 'BS3', 'BGG', 'BG1', 'BMA', 'BUC', 'BTR', 'BCL', 'BLT', 'BCB', 'BTK', 'B4E', 'BMY', 'BCS', 'B3U', 'BIF', 'BIQ', 'KYN', 'K44', 'KNB', 'KOR', 'KKH', 'KQB', 'K0X', 'KPI', 'KST', 'KYQ', 'low', 'K9K', 'KCX', 'LED', 'LPG', 'LGY', 'LEF', 'LE1', 'LET', 'LEU', 'LP6', 'L8G', 'LAL', 'LLO', 'LLY', 'LYZ', 'LLZ', 'LVT', 'LYU', 'LA2', 'LMF', 'L7G', 'LMT', 'LLP', 'LYF', 'LYS', 'LBY', 'LCK', 'LDH', 'L3J', 'L3Z', 'L3M', '2TY', '2P0', '2FM', '2HF', '200', '2AG', '2CO', '26E', '2MR', '267', '2XA', '25Y', '2MT', '200-checkpoint', 'YNM', 'YM6', 'YCM', 'YOF', '5WQ', '58T', '5CS', '56A', 'plane', 'PBF', 'PL9', 'PY8', 'PTH', 'PYX', 'PNQ', 'PTM', 'PBB', 'P7H', 'P3Q', 'PEC', 'P1L', 'PRJ', 'PRK', 'PHE', 'PRO', 'PE1', 'PSH', 'PFF', 'PF5', 'PSU', 'PPN', 'PHI', 'PRR', 'PAT', 'PLP', 'PTR', 'P6Q', 'P6S', 'P6D', 'PYA', 'PM3', 'PAQ', 'W37', 'WFP']\n",
    "files= [file for file in files if file.stem.split(\"_\")[-1] not in known_blacklist]"
   ]
  },
  {
   "cell_type": "code",
   "execution_count": 11,
   "id": "b38e141a-32e3-48dc-b4ad-56bd50fcab77",
   "metadata": {},
   "outputs": [],
   "source": [
    "import tqdm\n",
    "import numpy as np"
   ]
  },
  {
   "cell_type": "code",
   "execution_count": 12,
   "id": "fbc19dbc-5378-4ce3-af54-276d0a60319e",
   "metadata": {},
   "outputs": [],
   "source": [
    "mol = Mol.from_file_geocif(files[0]) # maybe necessary to set class attrs"
   ]
  },
  {
   "cell_type": "code",
   "execution_count": 13,
   "id": "4f226806-a8b7-4c3a-b32e-9685398d1deb",
   "metadata": {},
   "outputs": [
    {
     "name": "stderr",
     "output_type": "stream",
     "text": [
      "nproc=32: 100%|█████████████████████████████████████████████████████████████████████████████████████████████████████████████| 22134/22134 [01:00<00:00, 366.23it/s]\n"
     ]
    }
   ],
   "source": [
    "def worker(file):\n",
    "  mol = Mol.from_file_geocif(file)\n",
    "  rdmol = mol.rdkit_mol\n",
    "  return mol\n",
    "mols = pool_with_progress(worker,files,nproc=32)"
   ]
  },
  {
   "cell_type": "code",
   "execution_count": 14,
   "id": "5496cb57-e2a8-46d2-a0d5-fc3988556d12",
   "metadata": {},
   "outputs": [
    {
     "name": "stderr",
     "output_type": "stream",
     "text": [
      "100%|███████████████████████████████████████████████████████████████████████████████████████████████████████████████████████| 22134/22134 [03:19<00:00, 110.76it/s]\n"
     ]
    }
   ],
   "source": [
    "mgraphs = []\n",
    "failed_mols = []\n",
    "debug = False\n",
    "for mol in tqdm.tqdm(mols):\n",
    "  try:\n",
    "    mgraph = MolGraph(mol=mol,\n",
    "                      \n",
    "                      fragmenter=AngleFragmenter(exclude_elements=[]),\n",
    "                      labelers = {\"angle_value\":lambda frags: frags.angle_value,\n",
    "                                 \"angle_ideal\":lambda frags: frags.angle_ideal},\n",
    "                      \n",
    "                      #fragmenter=BondFragmenter(exclude_elements=[\"H\"]),\n",
    "                      # labelers = {\"distance_ideal\":lambda frags: frags.distance_ideal,\n",
    "                      #            \"distance\":lambda frags: frags.distance},\n",
    "                      skip_hydrogens=False,\n",
    "                      frag_name=\"fragment\")\n",
    "    mgraphs.append(mgraph)\n",
    "  except:\n",
    "    failed_mols.append(mol)\n",
    "    if debug:\n",
    "      raise"
   ]
  },
  {
   "cell_type": "code",
   "execution_count": 15,
   "id": "a3c9013a-f67e-429f-9407-52e691bf322e",
   "metadata": {},
   "outputs": [],
   "source": [
    "import sys\n",
    "sys.path.append(\"../../../\")"
   ]
  },
  {
   "cell_type": "code",
   "execution_count": 16,
   "id": "e72b29dd-d97e-4efb-9bd9-27186cc7aa5f",
   "metadata": {},
   "outputs": [],
   "source": [
    "# from graph.message_passing import MessagePassingBonded\n",
    "# from graph.readout import ReadoutJanossyLinear\n",
    "# import copy"
   ]
  },
  {
   "cell_type": "code",
   "execution_count": 17,
   "id": "2c19197f-a534-48a1-b543-28fe8b07acdf",
   "metadata": {},
   "outputs": [],
   "source": [
    "# clear_attrs = [label_name+\"_pred\",\"h\"]+[\"h%s\"%i for i in range(fragment_size)]\n",
    "# atom_name = \"atom\"\n",
    "# fragment_name = \"fragment\"\n",
    "# for mgraph in mgraphs:\n",
    "#   for attr in clear_attrs:\n",
    "#     if attr in mgraph.fragment_graph.nodes[atom_name].data:\n",
    "#       if attr != \"h0\":\n",
    "#         del mgraph.fragment_graph.nodes[atom_name].data[attr]\n",
    "#     if attr in mgraph.fragment_graph.nodes[fragment_name].data:\n",
    "#       del mgraph.fragment_graph.nodes[fragment_name].data[attr]"
   ]
  },
  {
   "cell_type": "code",
   "execution_count": 18,
   "id": "3553e85e-bdee-4eec-8fae-aba7278bf9ff",
   "metadata": {},
   "outputs": [],
   "source": [
    "\n",
    "label_name = \"angle_ideal\"\n",
    "dataset = MolGraphDataset(mgraphs)\n",
    "g = dataset.fragment_graph\n",
    "atom_feature_shape = tuple(g.nodes[\"atom\"].data[\"h0\"].shape)\n",
    "#hidden_units = 64\n",
    "# message_passing = MessagePassingBonded(feature_units=atom_feature_shape[1],\n",
    "#                                        hidden_units=hidden_units,\n",
    "#                                        nlayers=4,\n",
    "#                                        )\n",
    "\n",
    "# #readout = ReadoutSimpleLinear(hidden_units*2,hidden_units*2,1,n_hid_layers=1,label_name=label_name)\n",
    "# fragment_size = 3\n",
    "# # readout = ReadoutSimple(hidden_units,\n",
    "# #                         hidden_units,\n",
    "# #                         1,\n",
    "# #                         n_hid_layers=3,\n",
    "# #                         fragment_size=fragment_size,\n",
    "# #                         label_name=label_name)\n",
    "# # readout = ReadoutJanossyLinear(hidden_units*fragment_size,\n",
    "# #                                hidden_units*fragment_size,\n",
    "# #                                1,\n",
    "# #                                n_hid_layers=3,\n",
    "# #                                label_name=label_name,\n",
    "# #                                fragment_size=fragment_size)"
   ]
  },
  {
   "cell_type": "code",
   "execution_count": 19,
   "id": "4cfce6ef-3942-404f-968c-0fb784980d41",
   "metadata": {},
   "outputs": [],
   "source": [
    "import sys\n",
    "sys.path.append(\"../../PhenixML/\")\n",
    "# make model\n",
    "import torch.nn as nn\n",
    "from phenixml.models.message_passing import MessagePassing\n",
    "from phenixml.models.readout import ReadoutLinearJanossy\n",
    "\n",
    "# settings\n",
    "gpuid = 2\n",
    "n_units = 128\n",
    "n_layers_mp = 4\n",
    "fragment_size = 2\n",
    "feature_units = dataset[0].fragment_graph.nodes[\"atom\"].data[\"h0\"].shape[1]\n",
    "\n",
    "\n",
    "# Set up message passing\n",
    "config = []\n",
    "for n_layer in range(n_layers_mp):\n",
    "  config+=[n_units,\"relu\"]\n",
    "\n",
    "message_passing = MessagePassing(\n",
    "    feature_units=feature_units) \n",
    "\n",
    "\n",
    "# Set up readout\n",
    "n_layers_readout = 3\n",
    "config = []\n",
    "for n_layer in range(n_layers_readout):\n",
    "  config+=[n_units,\"relu\"]\n",
    "  \n",
    "readout = ReadoutLinearJanossy(\n",
    "    in_features=n_units, \n",
    "    config=config,\n",
    "    out_features={label_name+\"_pred\":1},\n",
    "    fragment_size = fragment_size)\n",
    "\n",
    "# Sequential message passing, readout\n",
    "model = nn.Sequential(message_passing,readout)\n",
    "opt = torch.optim.Adam(model.parameters(),lr=1e-4)\n",
    "metric = torch.nn.MSELoss()"
   ]
  },
  {
   "cell_type": "code",
   "execution_count": 20,
   "id": "c72f45a8-0983-405e-be64-08b55d0bcc06",
   "metadata": {},
   "outputs": [],
   "source": [
    "model = torch.nn.Sequential(message_passing,readout)\n",
    "opt = torch.optim.Adam(model.parameters(),lr=1e-4)\n",
    "metric = torch.nn.MSELoss()"
   ]
  },
  {
   "cell_type": "code",
   "execution_count": 21,
   "id": "fcd78203-a586-4eb4-ae7b-b5b0d97037a7",
   "metadata": {},
   "outputs": [],
   "source": [
    "batches = list(dataset.batches(n_batches=4))"
   ]
  },
  {
   "cell_type": "code",
   "execution_count": 22,
   "id": "795fafce-e39d-442a-a969-aad004e5e5e8",
   "metadata": {},
   "outputs": [
    {
     "name": "stderr",
     "output_type": "stream",
     "text": [
      "100%|████████████████████████████████████████████████████████████████████████████████████████████████████████████████████████████| 500/500 [05:11<00:00,  1.61it/s]\n"
     ]
    }
   ],
   "source": [
    "gpuid = 0\n",
    "if gpuid is not None:\n",
    "  model = model.to(\"cuda:\"+str(gpuid))\n",
    "\n",
    "\n",
    "# Training loop\n",
    "epoch_losses = []\n",
    "n_epoch=500\n",
    "\n",
    "for epoch in tqdm.tqdm(range(n_epoch)):\n",
    "  batch_losses = []\n",
    "  for batch in batches:\n",
    "    if gpuid is not None:\n",
    "      batch = batch.to(\"cuda:\"+str(gpuid))\n",
    "    g = model(batch)\n",
    "    loss = metric(g.nodes[\"fragment\"].data[label_name],\n",
    "                  g.nodes[\"fragment\"].data[label_name+\"_pred\"])\n",
    "    \n",
    "    opt.zero_grad()\n",
    "    loss.backward()\n",
    "    opt.step()\n",
    "    batch_losses.append(loss.item())\n",
    "\n",
    "  epoch_losses.append(np.mean(batch_losses))"
   ]
  },
  {
   "cell_type": "code",
   "execution_count": 23,
   "id": "83721222-e175-46a9-bfd6-169486c52be9",
   "metadata": {},
   "outputs": [],
   "source": [
    "model = model.to(\"cpu\")\n",
    "g = model(dataset.fragment_graph)"
   ]
  },
  {
   "cell_type": "code",
   "execution_count": 24,
   "id": "c944d976-a532-4b24-a49c-85a5eb0713a1",
   "metadata": {},
   "outputs": [
    {
     "data": {
      "text/plain": [
       "[<matplotlib.lines.Line2D at 0x7f7bd4109180>]"
      ]
     },
     "execution_count": 24,
     "metadata": {},
     "output_type": "execute_result"
    },
    {
     "data": {
      "image/png": "[encoded data removed]",
      "text/plain": [
       "<Figure size 432x288 with 1 Axes>"
      ]
     },
     "metadata": {
      "needs_background": "light"
     },
     "output_type": "display_data"
    }
   ],
   "source": [
    "import matplotlib.pyplot as plt\n",
    "plt.plot(epoch_losses)"
   ]
  },
  {
   "cell_type": "code",
   "execution_count": 26,
   "id": "e1b096eb-0b4b-49f8-92b8-28f199fd0fec",
   "metadata": {},
   "outputs": [],
   "source": [
    "import torch\n",
    "\n",
    "def to_np(tensor):\n",
    "  return tensor.detach().cpu().numpy()\n",
    "\n",
    "\n",
    "def to_torch(array):\n",
    "  return torch.tensor(array,dtype=torch.get_default_dtype())"
   ]
  },
  {
   "cell_type": "code",
   "execution_count": 27,
   "id": "72a79290-013f-4061-8c8d-c20dce2c4cbf",
   "metadata": {},
   "outputs": [],
   "source": [
    "a,b =(to_np(g.nodes[\"fragment\"].data[label_name][:,0]),\n",
    "      to_np(g.nodes[\"fragment\"].data[label_name+\"_pred\"][:,0]))"
   ]
  },
  {
   "cell_type": "code",
   "execution_count": 28,
   "id": "cc4309f2-83ab-45e5-a08c-483ed4dae3c4",
   "metadata": {},
   "outputs": [],
   "source": [
    "c,d =(to_np(g.nodes[\"fragment\"].data[\"angle_value\"][:,0]),\n",
    "      to_np(g.nodes[\"fragment\"].data[\"angle_ideal\"][:,0]))"
   ]
  },
  {
   "cell_type": "code",
   "execution_count": 29,
   "id": "ed83c03d-68c0-4595-bfea-408763d0892d",
   "metadata": {},
   "outputs": [],
   "source": [
    "from utils.plotting import plot_geom_eval"
   ]
  },
  {
   "cell_type": "code",
   "execution_count": 30,
   "id": "b2df57e1-df14-4208-b13e-eafcfaa6a3d8",
   "metadata": {},
   "outputs": [
    {
     "data": {
      "image/png": "[encoded data removed]",
      "text/plain": [
       "<Figure size 1152x360 with 2 Axes>"
      ]
     },
     "metadata": {
      "needs_background": "light"
     },
     "output_type": "display_data"
    }
   ],
   "source": [
    "plot_geom_eval(a,b,note=\"old model\",mode=\"angle\")"
   ]
  },
  {
   "cell_type": "code",
   "execution_count": 31,
   "id": "b69e96a0-1125-4b3f-8665-0e7198000613",
   "metadata": {},
   "outputs": [
    {
     "data": {
      "text/plain": [
       "Graph(num_nodes={'atom': 960670, 'fragment': 1730630},\n",
       "      num_edges={('atom', 'atom_as_0_in_fragment', 'fragment'): 1730630, ('atom', 'atom_as_1_in_fragment', 'fragment'): 1730630, ('atom', 'atom_as_2_in_fragment', 'fragment'): 1730630, ('atom', 'atom_bonded_atom', 'atom'): 1990822},\n",
       "      metagraph=[('atom', 'fragment', 'atom_as_0_in_fragment'), ('atom', 'fragment', 'atom_as_1_in_fragment'), ('atom', 'fragment', 'atom_as_2_in_fragment'), ('atom', 'atom', 'atom_bonded_atom')])"
      ]
     },
     "execution_count": 31,
     "metadata": {},
     "output_type": "execute_result"
    }
   ],
   "source": [
    "g"
   ]
  },
  {
   "cell_type": "code",
   "execution_count": null,
   "id": "d78ad577-7d54-491d-bc56-b384598612e8",
   "metadata": {},
   "outputs": [],
   "source": []
  }
 ],
 "metadata": {
  "kernelspec": {
   "display_name": "Python 3 (ipykernel)",
   "language": "python",
   "name": "python3"
  },
  "language_info": {
   "codemirror_mode": {
    "name": "ipython",
    "version": 3
   },
   "file_extension": ".py",
   "mimetype": "text/x-python",
   "name": "python",
   "nbconvert_exporter": "python",
   "pygments_lexer": "ipython3",
   "version": "3.10.5"
  }
 },
 "nbformat": 4,
 "nbformat_minor": 5
}
