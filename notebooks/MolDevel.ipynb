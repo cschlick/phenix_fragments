{
 "cells": [
  {
   "cell_type": "code",
   "execution_count": 1,
   "id": "95cd19ea-b48b-436c-868b-d7e4741ad8de",
   "metadata": {},
   "outputs": [],
   "source": [
    "# from iotbx import cif\n",
    "# from iotbx.data_manager import DataManager\n",
    "# import os\n",
    "# os.environ[\"MMTBX_CCP4_MONOMER_LIB\"] = \"/Users/user/software/phenix/modules/chem_data/geostd\""
   ]
  },
  {
   "cell_type": "code",
   "execution_count": null,
   "id": "90de2fc4-b0d4-4fab-9fcf-b667f9b4e167",
   "metadata": {},
   "outputs": [],
   "source": []
  },
  {
   "cell_type": "code",
   "execution_count": 1,
   "id": "0b52c547-8857-42dc-8313-bc1300a07596",
   "metadata": {},
   "outputs": [],
   "source": [
    "import sys\n",
    "sys.path.append(\"../phenix_fragments/\")"
   ]
  },
  {
   "cell_type": "code",
   "execution_count": 2,
   "id": "90df3042-fcc5-4b42-8225-9554b9e850f0",
   "metadata": {},
   "outputs": [
    {
     "name": "stderr",
     "output_type": "stream",
     "text": [
      "/opt/anaconda3/envs/restraintsML6/lib/python3.10/site-packages/tqdm/auto.py:22: TqdmWarning: IProgress not found. Please update jupyter and ipywidgets. See https://ipywidgets.readthedocs.io/en/stable/user_install.html\n",
      "  from .autonotebook import tqdm as notebook_tqdm\n"
     ]
    }
   ],
   "source": [
    "from graph.utils import build_atom_graph_from_mol, build_fragment_graph"
   ]
  },
  {
   "cell_type": "code",
   "execution_count": 3,
   "id": "13d7e3f6-78bb-46e4-846a-3b57f3418d8a",
   "metadata": {},
   "outputs": [],
   "source": [
    "from mol.mols import MolInputGeo, Mol\n",
    "from pathlib import Path\n",
    "from mol.cif import load_cif_file, guess_cif_format\n",
    "from mol.rdkit import validate_rdkit_mol"
   ]
  },
  {
   "cell_type": "code",
   "execution_count": 4,
   "id": "c00840a5-964a-416e-983a-d61072378266",
   "metadata": {},
   "outputs": [],
   "source": [
    "from fragmentation.fragmenters import BondFragmenter\n",
    "from graph.molgraph import MolGraph, MolGraphDataset\n",
    "from graph.message_passing import MessagePassingBonded\n",
    "from graph.readout import ReadoutSimple"
   ]
  },
  {
   "cell_type": "code",
   "execution_count": 5,
   "id": "2d37ddff-e2d6-47d0-97e1-eadcabd51eb5",
   "metadata": {},
   "outputs": [],
   "source": [
    "import torch"
   ]
  },
  {
   "cell_type": "code",
   "execution_count": 6,
   "id": "a14e64e9-4404-4674-b3ef-63c4eefe304e",
   "metadata": {},
   "outputs": [],
   "source": [
    "# dm = DataManager()\n",
    "# file = Path(\"../data/PO_data/12AS/output/12AS.updated.pdb\")\n",
    "# dm.process_model_file(str(file))\n",
    "# dm.process_restraint_file(\"../data/PO_data/12AS/output/restraints/AMP.cif\")\n",
    "# model = dm.get_model()\n",
    "# model.process(make_restraints=True)\n",
    "\n",
    "# mol = Mol.from_cctbx_model(model)\n",
    "# molecule_id = file.stem.split(\".\")[0]\n",
    "# mol.molecule_id = molecule_id"
   ]
  },
  {
   "cell_type": "code",
   "execution_count": 7,
   "id": "6289cde1-58e4-4a37-8d61-6fbc3d7c143c",
   "metadata": {},
   "outputs": [],
   "source": [
    "folder = Path(\"../data/geostd/\")\n",
    "files = [file for file in folder.glob(\"**/*\") if file.suffix == \".cif\" and \"ccd\" not in file.name and \"lib\" not in file.name]"
   ]
  },
  {
   "cell_type": "code",
   "execution_count": 8,
   "id": "b38e141a-32e3-48dc-b4ad-56bd50fcab77",
   "metadata": {},
   "outputs": [],
   "source": [
    "import tqdm\n",
    "import numpy as np"
   ]
  },
  {
   "cell_type": "code",
   "execution_count": 9,
   "id": "4f226806-a8b7-4c3a-b32e-9685398d1deb",
   "metadata": {},
   "outputs": [
    {
     "name": "stderr",
     "output_type": "stream",
     "text": [
      "100%|█████████████████████████████████████████████████████████████████████████████████████████████████████████████████████████████| 10/10 [00:00<00:00, 100.69it/s]\n"
     ]
    }
   ],
   "source": [
    "mols = []\n",
    "known_blacklist = ['R79', 'R46', 'R3E', 'RDR', 'R19', 'RIG', 'R3B', 'RE3', 'RE0', 'R04', 'R01', 'RRP', 'R03', 'R17', 'R1A', 'R71', 'RTQ', 'RTR', 'U', 'UN2', 'UZ7', 'U49', 'U66', 'U5Y', 'URG', 'UIZ', '9ZM', '9NV', '95A', '9NE', '9NR', '9NF', '0A8', '0CS', '0BR', '07O', '0AH', '0N1', '0AK', '0E2', '0GM', '0E3', '0D5', '030', '0FL', '000', '02O', '0PN', '02L', '013', '01F', '0AF', '0ZM', '0A1', '0AR', '0LF', '0BN', '7C2', '7AZ', '7C0', '7NX', '7LT', '7LW', 'IV7', 'ILX', 'IBU', 'IAM', 'IRI', 'I21', 'IEL', 'I2M', 'IYR', 'INM', 'ILE', 'ICY', 'IZO', 'NEP', 'NDT', 'ND4', 'NKJ', 'N31', 'NGH', 'N2C', 'NDG', 'NDP', 'NAL', 'NMM', 'NBQ', 'NOT', 'NMQ', 'NMR', 'NCY', 'NCO', 'NAG', 'NNH', 'NYS', 'NLE', 'NMC', 'low', 'NO', 'NIY', 'N1B', 'N0P', 'NPI', 'NPH', 'NGA', 'GME', 'GLU', 'GVL', 'GPL', 'G2O', 'G', 'GEK', 'GD', 'GHG', 'GT9', 'GAL', 'GLJ', 'GLY', 'G9R', 'GLN', 'GOV', 'GVB', 'GND', '6CW', '6VB', '6QG', '6Q1', '6HN', '6CH', '6VJ', '6CL', '6T3', 'ZBZ', 'Z70', 'ZCL', 'ZSW', 'ZSV', 'Z01', 'ZKG', 'ZRL', 'ZZD', '1PA', '12W', '1TY', '143', '193', '1ZX', '1TQ', '1X6', '10R', '82J', '8Q4', '85A', 'TYI', 'TCQ', 'TNB', 'T5B', 'TBR', 'TLY', 'TYX', 'TY9', 'TYO', 'TYN', 'TY8', 'TYY', 'TNR', 'TBG', 'TIS', 'TPQ', 'TRN', 'TRX', 'TRO', 'TEF', 'T0I', 'THR', 'TS9', 'TQQ', 'TQI', 'TRP', 'TRF', 'TEO', 'TIH', 'TPJ', 'T11', 'T3Y', 'TUB', 'T5H', 'TC9', 'TY5', 'TTS', 'TYQ', 'T58', 'TYR', 'TY2', 'TYS', 'TD', 'SIB', 'SEB', 'SIA', 'SDP', 'S1H', 'SEP', 'SD4', 'S2P', 'SHC', 'SRM', 'SER', 'SLZ', 'SUN', 'SLL', 'SY9', 'SVW', 'SVV', 'SAH', 'SCS', 'SNC', 'S5W', 'SCH', 'SMC', 'SVZ', 'SME', 'SVX', 'SVY', 'SXE', 'SEM', 'AN8', 'A5N', 'ALA', 'ALC', 'AAD', 'AZY', 'AR4', 'AGT', 'ASP', 'ARV', 'ARS', 'AGS', 'APM', 'ARG', 'AGQ', 'A', 'ADP', 'ASN', 'ASL', 'AHP', 'A25', 'AGM', 'ARO', 'ALN', 'ALY', 'AAH', 'AZS', 'AD', 'A9A', 'AR', 'FEO', 'FRQ', 'FHO', 'FHL', 'FLT', 'FUC', 'FLA', 'FOL', 'FNH', 'FU0', 'FT6', 'FTY', 'F4S', 'FWQ', 'FRM', 'F2F', 'FFM', 'F3S', 'link', 'exafs', 'crg', 'alpha2-6', 'OTY', 'ON6', 'OC1', 'OCS', 'OAZ', 'OXX', 'O7N', 'OBS', 'OLZ', 'OBF', 'OMH', 'OHI', 'OEX', 'ORQ', 'O12', 'OSE', 'OM3', 'OCY', 'OM2', 'ONH', 'OTQ', 'OAS', 'OMT', 'OTB', 'OXV', 'ONL', 'HIC', 'HS8', 'HIS', 'HPE', 'HQA', 'HGL', 'HIQ', 'H8T', 'HTI', 'HVA', 'HNC', 'HCS', 'HZP', 'HLU', 'HAR', 'HOX', 'HFS', 'HRP', 'HRG', 'HHK', 'list', 'MYK', 'MCS', 'low', 'MO1', 'MMO', 'MAN', 'MTY', 'MXI', 'MB0', 'MBQ', 'MLX', 'MLY', 'MNQ', 'MIR', 'MEQ', 'ME0', 'M2S', 'MIS', 'MSL', 'MHS', 'MET', 'M0H', 'MGG', 'M2L', 'MEN', 'MF3', 'MSE', 'MHO', 'M3L', 'MT2', 'MYW', 'MUT', 'ML3', 'MLG', 'JJL', 'JJJ', 'JJK', 'JN1', 'pur', 'pur', 'pyr', 'pyr', 'rna2p', 'rna3p', 'rna3p', 'rna2p', 'CAB', 'CYS', 'CYR', 'CY1', 'CYG', 'CY0', 'CYQ', 'CLG', 'C6C', 'CY4', 'CTE', 'CD', 'CYW', 'CME', 'CLA', 'CGA', 'CSS', 'CSD', 'CS3', 'CGU', 'CS1', 'CSU', 'C', 'CSA', 'C0Q', 'C1X', 'plane', 'low', 'CPC', 'CSO', 'CSJ', 'CU9', 'CLZ', 'CLO', 'CO4', 'C6J', 'CN4', 'CYJ', 'C5C', 'CCS', 'low', 'C6M', 'CLH', 'CML', 'DGD', 'DPL', 'DH8', 'D3O', 'DT0', 'DON', 'DAE', 'DBL', 'DBY', 'DYS', 'low', 'DMZ', 'DV0', 'DO2', 'DB5', 'D4P', 'DAH', 'DMK', 'DVV', 'DNS', 'DMH', 'DVT', 'D8U', 'DB0', 'DE0', 'DIR', 'DPP', 'DPQ', 'DE6', 'DDE', 'VAL', 'VZ7', 'VLL', 'VHA', 'VHC', 'VFY', 'VR0', 'VJ6', 'Q3E', 'QPA', 'QEV', 'QDW', 'Q4B', 'Q8T', 'Q8B', 'Q7Z', 'QMM', 'Q7H', 'QLJ', 'Q7K', 'Q41', 'Q7Q', 'Q7V', 'Q4Y', 'Q2Z', 'QEY', '4YM', '4BF', '4CF', '4DP', '4DB', '4HT', '4PH', '406', '4FW', '4IN', '4LA', 'X5M', 'XLS', 'XMF', 'XX1', 'XCN', 'XME', 'XX2', 'XS1', 'X3P', 'low', 'XMI', 'XW1', 'XMJ', '3GL', '3DB', '3EG', '32T', '3CF', '3TY', '3AH', '3NK', '3AR', '35Y', 'E61', 'E6P', 'E4Y', 'ECX', 'EAQ', 'ESB', 'EFC', 'ESC', 'EEM', 'E19', 'EQ1', 'E9A', 'E4G', 'EXY', 'E5A', 'E6M', 'EVB', 'E5D', 'EN3', 'E51', 'E5P', 'E6J', 'BFQ', 'BPH', 'BS3', 'BGG', 'BG1', 'BMA', 'BUC', 'BTR', 'BCL', 'BLT', 'BCB', 'BTK', 'B4E', 'BMY', 'BCS', 'B3U', 'BIF', 'BIQ', 'KYN', 'K44', 'KNB', 'KOR', 'KKH', 'KQB', 'K0X', 'KPI', 'KST', 'KYQ', 'low', 'K9K', 'KCX', 'LED', 'LPG', 'LGY', 'LEF', 'LE1', 'LET', 'LEU', 'LP6', 'L8G', 'LAL', 'LLO', 'LLY', 'LYZ', 'LLZ', 'LVT', 'LYU', 'LA2', 'LMF', 'L7G', 'LMT', 'LLP', 'LYF', 'LYS', 'LBY', 'LCK', 'LDH', 'L3J', 'L3Z', 'L3M', '2TY', '2P0', '2FM', '2HF', '200', '2AG', '2CO', '26E', '2MR', '267', '2XA', '25Y', '2MT', '200-checkpoint', 'YNM', 'YM6', 'YCM', 'YOF', '5WQ', '58T', '5CS', '56A', 'plane', 'PBF', 'PL9', 'PY8', 'PTH', 'PYX', 'PNQ', 'PTM', 'PBB', 'P7H', 'P3Q', 'PEC', 'P1L', 'PRJ', 'PRK', 'PHE', 'PRO', 'PE1', 'PSH', 'PFF', 'PF5', 'PSU', 'PPN', 'PHI', 'PRR', 'PAT', 'PLP', 'PTR', 'P6Q', 'P6S', 'P6D', 'PYA', 'PM3', 'PAQ', 'W37', 'WFP']\n",
    "  \n",
    "for file in tqdm.tqdm(files[:10]):\n",
    "  try:\n",
    "    mol = Mol.from_file_geocif(file)\n",
    "    rdmol = mol.rdkit_mol\n",
    "    mols.append(mol)\n",
    "  except:\n",
    "    \n",
    "    if  file.stem.split(\"_\")[-1] not in known_blacklist:\n",
    "      print(file)\n",
    "      break"
   ]
  },
  {
   "cell_type": "code",
   "execution_count": 10,
   "id": "f1b8915a-d212-43c4-93c2-47f65795d9b9",
   "metadata": {},
   "outputs": [],
   "source": [
    "mol = mols[0]"
   ]
  },
  {
   "cell_type": "code",
   "execution_count": null,
   "id": "b246a40e-6d11-4765-af4a-9bc77285cbdd",
   "metadata": {},
   "outputs": [],
   "source": []
  },
  {
   "cell_type": "code",
   "execution_count": null,
   "id": "46c4b307-4d38-4e8a-9183-5a5a78531f80",
   "metadata": {},
   "outputs": [],
   "source": []
  },
  {
   "cell_type": "code",
   "execution_count": 11,
   "id": "5496cb57-e2a8-46d2-a0d5-fc3988556d12",
   "metadata": {},
   "outputs": [
    {
     "name": "stderr",
     "output_type": "stream",
     "text": [
      "100%|█████████████████████████████████████████████████████████████████████████████████████████████████████████████████████████████| 10/10 [00:00<00:00, 201.73it/s]\n"
     ]
    }
   ],
   "source": [
    "mgraphs = []\n",
    "for mol in tqdm.tqdm(mols):\n",
    "  mgraph = MolGraph(mol=mol,\n",
    "                    fragmenter=BondFragmenter(exclude_elements=[\"H\"]),\n",
    "                    labeler = lambda frags: frags.distance_ideal,\n",
    "                    frag_name=\"fragment\",\n",
    "                    label_name=\"label\")\n",
    "  mgraphs.append(mgraph)"
   ]
  },
  {
   "cell_type": "code",
   "execution_count": 12,
   "id": "3553e85e-bdee-4eec-8fae-aba7278bf9ff",
   "metadata": {},
   "outputs": [],
   "source": [
    "dataset = MolGraphDataset(mgraphs)\n",
    "g = dataset.fragment_graph\n",
    "atom_feature_shape = tuple(g.nodes[\"atom\"].data[\"h0\"].shape)\n",
    "message_passing = MessagePassingBonded(feature_units=atom_feature_shape[1],hidden_units=16)\n",
    "readout = ReadoutSimple(16,16,1)"
   ]
  },
  {
   "cell_type": "code",
   "execution_count": 13,
   "id": "c72f45a8-0983-405e-be64-08b55d0bcc06",
   "metadata": {},
   "outputs": [],
   "source": [
    "model = torch.nn.Sequential(message_passing,readout)\n",
    "opt = torch.optim.Adam(model.parameters(),lr=1e-4)\n",
    "metric = torch.nn.MSELoss()"
   ]
  },
  {
   "cell_type": "code",
   "execution_count": 14,
   "id": "fcd78203-a586-4eb4-ae7b-b5b0d97037a7",
   "metadata": {},
   "outputs": [],
   "source": [
    "batches = list(dataset.batches())"
   ]
  },
  {
   "cell_type": "code",
   "execution_count": null,
   "id": "53de3af1-2e52-461f-8326-63648d980116",
   "metadata": {},
   "outputs": [],
   "source": []
  },
  {
   "cell_type": "code",
   "execution_count": 16,
   "id": "795fafce-e39d-442a-a969-aad004e5e5e8",
   "metadata": {},
   "outputs": [
    {
     "name": "stderr",
     "output_type": "stream",
     "text": [
      "100%|█████████████████████████████████████████████████████████████████████████████████████████████████████████████████████████| 1000/1000 [00:08<00:00, 124.78it/s]\n"
     ]
    }
   ],
   "source": [
    "gpuid = None\n",
    "# Training loop\n",
    "epoch_losses = []\n",
    "n_epoch=1000\n",
    "\n",
    "for epoch in tqdm.tqdm(range(n_epoch)):\n",
    "  batch_losses = []\n",
    "  for batch in batches:\n",
    "    if gpuid is not None:\n",
    "      batch = batch.to(\"cuda:\"+str(gpuid))\n",
    "    g = model(batch)\n",
    "    loss = metric(g.nodes[\"fragment\"].data[\"label\"],\n",
    "                  g.nodes[\"fragment\"].data[\"label_pred\"])\n",
    "    \n",
    "    opt.zero_grad()\n",
    "    loss.backward()\n",
    "    opt.step()\n",
    "    batch_losses.append(loss.item())\n",
    "\n",
    "  epoch_losses.append(np.mean(batch_losses))"
   ]
  },
  {
   "cell_type": "code",
   "execution_count": 17,
   "id": "c944d976-a532-4b24-a49c-85a5eb0713a1",
   "metadata": {},
   "outputs": [
    {
     "data": {
      "text/plain": [
       "[<matplotlib.lines.Line2D at 0x179b496f0>]"
      ]
     },
     "execution_count": 17,
     "metadata": {},
     "output_type": "execute_result"
    },
    {
     "data": {
      "image/png": "[encoded data removed]",
      "text/plain": [
       "<Figure size 432x288 with 1 Axes>"
      ]
     },
     "metadata": {
      "needs_background": "light"
     },
     "output_type": "display_data"
    }
   ],
   "source": [
    "import matplotlib.pyplot as plt\n",
    "plt.plot(epoch_losses)"
   ]
  },
  {
   "cell_type": "code",
   "execution_count": 18,
   "id": "45fb946c-46fa-4b6b-a162-af72aa3e7bfd",
   "metadata": {},
   "outputs": [
    {
     "data": {
      "text/plain": [
       "tensor([1.7740, 1.6490, 1.4550, 1.4560, 1.4340, 1.3500, 1.2180, 1.4960, 1.3940,\n",
       "        1.3900, 1.3880, 1.3840, 1.3900, 1.3820, 1.3520, 1.3280, 1.3540, 1.3310,\n",
       "        1.3310, 1.5200, 1.5370, 1.4070, 1.5140, 1.5290, 1.4170, 1.4060, 1.5230,\n",
       "        1.3880, 1.5260, 1.8530, 1.4130, 1.5230, 1.4050, 1.4060, 1.3770, 1.4140,\n",
       "        1.4190, 1.3530, 1.4120, 1.3540, 1.3140, 1.4320, 1.3560, 1.3980, 1.3840,\n",
       "        1.3870, 1.3880, 1.5340, 1.5340, 1.5340, 1.4650, 1.2060, 1.4270, 1.4080,\n",
       "        1.3940, 1.4770, 1.4140, 1.3690, 1.2120, 1.3360, 1.4640, 1.3540, 1.4970,\n",
       "        1.4520, 1.3490, 1.4370, 1.3560, 1.4980, 1.4530, 1.3430, 1.4690, 1.5040,\n",
       "        1.4070, 1.4100, 1.3870, 1.5070, 1.3980, 1.3870, 1.3980, 1.3510, 1.5060,\n",
       "        1.5230, 1.5350, 1.5380, 1.5360, 1.5270, 1.5480, 1.2490, 1.2490, 1.5360,\n",
       "        1.7730, 1.6490, 1.4560, 1.4550, 1.4500, 1.3380, 1.2240, 1.4990, 1.3910,\n",
       "        1.3940, 1.3840, 1.3880, 1.3870, 1.3860, 1.5200, 1.5220, 1.5240, 1.5220,\n",
       "        1.5310, 1.2220, 1.5260, 1.4430, 1.3350, 1.7340, 1.3860, 1.3840, 1.3880,\n",
       "        1.3360, 1.3950, 1.3840, 1.3940, 1.3860, 1.3950, 1.4750, 1.3930, 1.3960,\n",
       "        1.2230, 1.5260, 1.4640, 1.3950, 1.3060, 1.3590, 1.3820, 1.4200, 1.3360,\n",
       "        1.5290, 1.4410, 1.2230, 1.3550, 1.4850, 1.3410, 1.5220, 1.5290, 1.5330,\n",
       "        1.8450, 1.5130, 1.5120, 1.8350, 1.3920, 1.3880, 1.3920, 1.3870, 1.3880,\n",
       "        1.3870, 1.8900, 1.3520, 1.3070, 1.2840, 1.5190, 1.4600, 1.5320, 1.3370,\n",
       "        1.7460, 1.4560, 1.4850, 1.7450, 1.5350, 1.5200, 1.2190, 1.5120, 1.3470,\n",
       "        1.5200, 1.4550, 1.3880, 1.3870, 1.3890, 1.3880, 1.3860, 1.3890, 1.4130,\n",
       "        1.3260, 1.2840, 1.5560, 1.3980, 1.5250, 1.5360, 1.3490, 1.3550, 1.3710,\n",
       "        1.4880, 1.4050, 1.4490, 1.2060, 1.3290, 1.5030, 1.5150, 1.5200, 1.5190,\n",
       "        1.9640, 1.5460, 1.5340, 1.5010, 1.3940, 1.4160, 1.3500, 1.3960, 1.3890,\n",
       "        1.3920, 1.3910, 1.3830])"
      ]
     },
     "execution_count": 18,
     "metadata": {},
     "output_type": "execute_result"
    }
   ],
   "source": [
    "g.nodes[\"fragment\"].data[\"label\"]"
   ]
  },
  {
   "cell_type": "code",
   "execution_count": 20,
   "id": "670270e2-3910-42f8-933b-4eb51fca2122",
   "metadata": {},
   "outputs": [
    {
     "data": {
      "text/plain": [
       "tensor([[ 5.4126,  7.5500,  0.0000,  ...,  2.7007,  9.9490,  0.0000],\n",
       "        [ 5.5622,  7.4045,  0.0000,  ...,  2.9437, 10.1747,  0.0000],\n",
       "        [ 5.4317,  7.6248,  0.0000,  ...,  3.0698, 10.3782,  0.0000],\n",
       "        ...,\n",
       "        [ 5.3486,  7.1885,  0.0000,  ...,  2.0367,  9.4159,  0.0000],\n",
       "        [ 5.3011,  6.8793,  0.0000,  ...,  2.0127,  9.1700,  0.0000],\n",
       "        [ 5.3011,  6.8793,  0.0000,  ...,  2.0127,  9.1700,  0.0000]],\n",
       "       grad_fn=<SumBackward1>)"
      ]
     },
     "execution_count": 20,
     "metadata": {},
     "output_type": "execute_result"
    }
   ],
   "source": [
    "g.nodes[\"fragment\"].data[\"h\"]"
   ]
  },
  {
   "cell_type": "code",
   "execution_count": null,
   "id": "77e8d832-172c-4b90-8e9a-634119a4f4ee",
   "metadata": {},
   "outputs": [],
   "source": []
  }
 ],
 "metadata": {
  "kernelspec": {
   "display_name": "Python 3 (ipykernel)",
   "language": "python",
   "name": "python3"
  },
  "language_info": {
   "codemirror_mode": {
    "name": "ipython",
    "version": 3
   },
   "file_extension": ".py",
   "mimetype": "text/x-python",
   "name": "python",
   "nbconvert_exporter": "python",
   "pygments_lexer": "ipython3",
   "version": "3.10.5"
  }
 },
 "nbformat": 4,
 "nbformat_minor": 5
}
